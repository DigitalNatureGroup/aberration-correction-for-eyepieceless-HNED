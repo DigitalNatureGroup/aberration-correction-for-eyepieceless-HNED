{
 "cells": [
  {
   "cell_type": "code",
   "execution_count": 1,
   "metadata": {},
   "outputs": [],
   "source": [
    "import tensorflow as tf\n",
    "\n",
    "import os\n",
    "import numpy as np\n",
    "import matplotlib.pyplot as plt\n",
    "import statistics\n",
    "import pickle\n",
    "\n",
    "import math\n",
    "import cv2\n",
    "import numpy as np\n",
    "from numpy import cos as cos\n",
    "from numpy import sin as sin\n",
    "from numpy import sqrt as sqrt\n",
    "from numpy import arctan2 as arctan2\n",
    "import os\n",
    "import datetime\n",
    "import time\n",
    "\n",
    "import sys\n",
    "from functions import *\n",
    "from tf_functions import *\n",
    "from zernike_functions import *"
   ]
  },
  {
   "cell_type": "code",
   "execution_count": 2,
   "metadata": {},
   "outputs": [],
   "source": [
    "# init_param\n",
    "\n",
    "    ### N: pix num, p: pix size[m]\n",
    "N = 2160\n",
    "p = 3.74e-6\n",
    "\n",
    "### l_ambda: wavelength\n",
    "l_ambda = 520e-9\n",
    "\n",
    "### z: distance from holo to img\n",
    "z = 0.05"
   ]
  },
  {
   "cell_type": "code",
   "execution_count": 3,
   "metadata": {},
   "outputs": [],
   "source": [
    "in_dir = '../input/'\n",
    "out_dir = '../output/'\n",
    "dt_now = datetime.datetime.now()"
   ]
  },
  {
   "cell_type": "code",
   "execution_count": 4,
   "metadata": {},
   "outputs": [],
   "source": [
    "# Input Image\n",
    "input_img = cv2.imread(in_dir + 'baboon_gray.png', cv2.IMREAD_GRAYSCALE) # ターゲットとの画像を読み込む\n",
    "point_image = np.full((2160,2160),0)\n",
    "point_image[1080][1080] = 255\n",
    "input_img = point_image\n",
    "cv2.imwrite(out_dir + 'check.png', input_img) #読み込みの確認\n",
    "size = (N,N)\n",
    "input_img = cv2.resize(input_img, size)\n",
    "phase = np.random.rand() # np.random()とかでランダムな位相分布を作る\n",
    "phase_exp = np.exp(1j*phase)\n",
    "input_plane =  input_img * phase_exp"
   ]
  },
  {
   "cell_type": "code",
   "execution_count": 5,
   "metadata": {},
   "outputs": [
    {
     "data": {
      "text/plain": [
       "True"
      ]
     },
     "execution_count": 5,
     "metadata": {},
     "output_type": "execute_result"
    }
   ],
   "source": [
    "# Back-Propagation from Image Plane to SLM Plane\n",
    "input_plane_add = ImageProcess.add_zero_padding(input_plane)\n",
    "N = input_plane_add.shape[0]\n",
    "slm_plane = CGH.angular_spectrum(input_plane_add, N, l_ambda, z*-1, p) #ホロ面への逆伝播を計算\n",
    "slm_plane = ImageProcess.remove_zero_padding(slm_plane)\n",
    "N = slm_plane.shape[0]\n",
    "\n",
    "phase_slm = CGH.phase_norm( CGH.phase(slm_plane) )\n",
    "\n",
    "cv2.imwrite(out_dir + 'simple_holo_baboon.png', phase_slm)"
   ]
  },
  {
   "cell_type": "code",
   "execution_count": 6,
   "metadata": {},
   "outputs": [
    {
     "data": {
      "image/png": "[encoded data removed]",
      "text/plain": [
       "<Figure size 432x432 with 1 Axes>"
      ]
     },
     "metadata": {
      "needs_background": "light"
     },
     "output_type": "display_data"
    }
   ],
   "source": [
    "light_img = np.full(size,1.0)\n",
    "phase_distr = CGH.phase_from_img(phase_slm)\n",
    "slm_plane2 = light_img * np.exp(1j*phase_distr)\n",
    "slm_plane2_add = ImageProcess.add_zero_padding(slm_plane2)\n",
    "N = slm_plane2_add.shape[0]\n",
    "recon_img = CGH.band_limited_angular_spectrum(slm_plane2_add, N, l_ambda, z, p)\n",
    "recon_img = ImageProcess.remove_zero_padding(recon_img)\n",
    "\n",
    "# こっちはintensityの分布を出す？\n",
    "norm_recon_image = CGH.intensity(recon_img)\n",
    "ImageProcess.show_imgs([norm_recon_image])"
   ]
  }
 ],
 "metadata": {
  "kernelspec": {
   "display_name": "Python 3.9.13 ('.venv': poetry)",
   "language": "python",
   "name": "python3"
  },
  "language_info": {
   "codemirror_mode": {
    "name": "ipython",
    "version": 3
   },
   "file_extension": ".py",
   "mimetype": "text/x-python",
   "name": "python",
   "nbconvert_exporter": "python",
   "pygments_lexer": "ipython3",
   "version": "3.9.13"
  },
  "orig_nbformat": 4,
  "vscode": {
   "interpreter": {
    "hash": "56a0db02db269d6c8be55c8fec16f6f5e6b64896459cc765e540b5756260e190"
   }
  }
 },
 "nbformat": 4,
 "nbformat_minor": 2
}
